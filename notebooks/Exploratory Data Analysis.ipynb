{
 "cells": [
  {
   "cell_type": "markdown",
   "metadata": {},
   "source": [
    "# Exploratory Data Analysis"
   ]
  },
  {
   "cell_type": "markdown",
   "metadata": {},
   "source": [
    "## Data Collection"
   ]
  },
  {
   "cell_type": "code",
   "execution_count": 4,
   "metadata": {},
   "outputs": [],
   "source": [
    "# Não consegui fazer funcionar o curl, arquivos estão salvos localmente"
   ]
  },
  {
   "cell_type": "markdown",
   "metadata": {},
   "source": [
    "## Data Processing"
   ]
  },
  {
   "cell_type": "code",
   "execution_count": 3,
   "metadata": {},
   "outputs": [],
   "source": [
    "# Como deu problema no meu anaconda e não consegui importar direto com o plpred ativado, tive que puxar as bibliotecas manualmente para a tarefa."
   ]
  },
  {
   "cell_type": "code",
   "execution_count": 10,
   "metadata": {},
   "outputs": [
    {
     "name": "stdout",
     "output_type": "stream",
     "text": [
      "Requirement already satisfied: pandas in c:\\users\\christian\\anaconda3\\lib\\site-packages (1.1.3)\n",
      "Requirement already satisfied: pytz>=2017.2 in c:\\users\\christian\\anaconda3\\lib\\site-packages (from pandas) (2020.1)\n",
      "Requirement already satisfied: python-dateutil>=2.7.3 in c:\\users\\christian\\anaconda3\\lib\\site-packages (from pandas) (2.8.1)\n",
      "Requirement already satisfied: numpy>=1.15.4 in c:\\users\\christian\\anaconda3\\lib\\site-packages (from pandas) (1.19.2)\n",
      "Requirement already satisfied: six>=1.5 in c:\\users\\christian\\anaconda3\\lib\\site-packages (from python-dateutil>=2.7.3->pandas) (1.15.0)\n",
      "Note: you may need to restart the kernel to use updated packages.\n"
     ]
    }
   ],
   "source": [
    "pip install pandas"
   ]
  },
  {
   "cell_type": "code",
   "execution_count": 11,
   "metadata": {},
   "outputs": [
    {
     "name": "stdout",
     "output_type": "stream",
     "text": [
      "Requirement already satisfied: matplotlib in c:\\users\\christian\\anaconda3\\lib\\site-packages (3.3.2)\n",
      "Requirement already satisfied: kiwisolver>=1.0.1 in c:\\users\\christian\\anaconda3\\lib\\site-packages (from matplotlib) (1.3.0)\n",
      "Requirement already satisfied: numpy>=1.15 in c:\\users\\christian\\anaconda3\\lib\\site-packages (from matplotlib) (1.19.2)\n",
      "Requirement already satisfied: python-dateutil>=2.1 in c:\\users\\christian\\anaconda3\\lib\\site-packages (from matplotlib) (2.8.1)\n",
      "Requirement already satisfied: cycler>=0.10 in c:\\users\\christian\\anaconda3\\lib\\site-packages (from matplotlib) (0.10.0)\n",
      "Requirement already satisfied: pillow>=6.2.0 in c:\\users\\christian\\anaconda3\\lib\\site-packages (from matplotlib) (8.0.1)\n",
      "Requirement already satisfied: pyparsing!=2.0.4,!=2.1.2,!=2.1.6,>=2.0.3 in c:\\users\\christian\\anaconda3\\lib\\site-packages (from matplotlib) (2.4.7)\n",
      "Requirement already satisfied: certifi>=2020.06.20 in c:\\users\\christian\\anaconda3\\lib\\site-packages (from matplotlib) (2020.6.20)\n",
      "Requirement already satisfied: six>=1.5 in c:\\users\\christian\\anaconda3\\lib\\site-packages (from python-dateutil>=2.1->matplotlib) (1.15.0)\n",
      "Note: you may need to restart the kernel to use updated packages.\n"
     ]
    }
   ],
   "source": [
    "pip install matplotlib"
   ]
  },
  {
   "cell_type": "code",
   "execution_count": 13,
   "metadata": {},
   "outputs": [
    {
     "name": "stdout",
     "output_type": "stream",
     "text": [
      "Requirement already satisfied: biopython in c:\\users\\christian\\anaconda3\\lib\\site-packages (1.78)\n",
      "Requirement already satisfied: numpy in c:\\users\\christian\\anaconda3\\lib\\site-packages (from biopython) (1.19.2)\n",
      "Note: you may need to restart the kernel to use updated packages.\n"
     ]
    }
   ],
   "source": [
    "pip install biopython"
   ]
  },
  {
   "cell_type": "code",
   "execution_count": 2,
   "metadata": {},
   "outputs": [],
   "source": [
    "from Bio import SeqIO\n",
    "from Bio.SeqUtils import ProtParam\n",
    "import pandas as pd"
   ]
  },
  {
   "cell_type": "code",
   "execution_count": 5,
   "metadata": {},
   "outputs": [],
   "source": [
    "\n",
    "def compute_aa_composition(protein_sequence):\n",
    "    analyzer = ProtParam.ProteinAnalysis(str(protein_sequence))\n",
    "    return analyzer.get_amino_acids_percent()"
   ]
  },
  {
   "cell_type": "code",
   "execution_count": 6,
   "metadata": {},
   "outputs": [],
   "source": [
    "#criando dataframe com campo membrane\n",
    "\n",
    "df = pd.DataFrame()\n",
    "\n",
    "handle = open('../data/raw/membrane.fasta')\n",
    "parser = SeqIO.parse(handle, 'fasta')\n",
    "\n",
    "for protein in parser:\n",
    "    protein_data = compute_aa_composition(protein.seq)\n",
    "    protein_data['membrane'] = 1\n",
    "    df = df.append([protein_data], ignore_index=True)\n",
    "    \n",
    "handle = open('../data/raw/cytoplasm.fasta')\n",
    "parser = SeqIO.parse(handle, 'fasta')\n",
    "\n",
    "for protein in parser:\n",
    "    protein_data = compute_aa_composition(protein.seq)\n",
    "    protein_data['membrane'] = 0\n",
    "    df = df.append([protein_data], ignore_index=True)"
   ]
  },
  {
   "cell_type": "code",
   "execution_count": 8,
   "metadata": {},
   "outputs": [
    {
     "data": {
      "text/html": [
       "<div>\n",
       "<style scoped>\n",
       "    .dataframe tbody tr th:only-of-type {\n",
       "        vertical-align: middle;\n",
       "    }\n",
       "\n",
       "    .dataframe tbody tr th {\n",
       "        vertical-align: top;\n",
       "    }\n",
       "\n",
       "    .dataframe thead th {\n",
       "        text-align: right;\n",
       "    }\n",
       "</style>\n",
       "<table border=\"1\" class=\"dataframe\">\n",
       "  <thead>\n",
       "    <tr style=\"text-align: right;\">\n",
       "      <th></th>\n",
       "      <th>A</th>\n",
       "      <th>C</th>\n",
       "      <th>D</th>\n",
       "      <th>E</th>\n",
       "      <th>F</th>\n",
       "      <th>G</th>\n",
       "      <th>H</th>\n",
       "      <th>I</th>\n",
       "      <th>K</th>\n",
       "      <th>L</th>\n",
       "      <th>...</th>\n",
       "      <th>N</th>\n",
       "      <th>P</th>\n",
       "      <th>Q</th>\n",
       "      <th>R</th>\n",
       "      <th>S</th>\n",
       "      <th>T</th>\n",
       "      <th>V</th>\n",
       "      <th>W</th>\n",
       "      <th>Y</th>\n",
       "      <th>membrane</th>\n",
       "    </tr>\n",
       "  </thead>\n",
       "  <tbody>\n",
       "    <tr>\n",
       "      <th>0</th>\n",
       "      <td>0.308789</td>\n",
       "      <td>0.004751</td>\n",
       "      <td>0.047506</td>\n",
       "      <td>0.106888</td>\n",
       "      <td>0.014252</td>\n",
       "      <td>0.049881</td>\n",
       "      <td>0.002375</td>\n",
       "      <td>0.033254</td>\n",
       "      <td>0.156770</td>\n",
       "      <td>0.045131</td>\n",
       "      <td>...</td>\n",
       "      <td>0.026128</td>\n",
       "      <td>0.023753</td>\n",
       "      <td>0.047506</td>\n",
       "      <td>0.021378</td>\n",
       "      <td>0.052257</td>\n",
       "      <td>0.014252</td>\n",
       "      <td>0.019002</td>\n",
       "      <td>0.002375</td>\n",
       "      <td>0.011876</td>\n",
       "      <td>1</td>\n",
       "    </tr>\n",
       "    <tr>\n",
       "      <th>1</th>\n",
       "      <td>0.072368</td>\n",
       "      <td>0.006579</td>\n",
       "      <td>0.085526</td>\n",
       "      <td>0.052632</td>\n",
       "      <td>0.026316</td>\n",
       "      <td>0.085526</td>\n",
       "      <td>0.026316</td>\n",
       "      <td>0.085526</td>\n",
       "      <td>0.046053</td>\n",
       "      <td>0.072368</td>\n",
       "      <td>...</td>\n",
       "      <td>0.006579</td>\n",
       "      <td>0.059211</td>\n",
       "      <td>0.032895</td>\n",
       "      <td>0.065789</td>\n",
       "      <td>0.046053</td>\n",
       "      <td>0.039474</td>\n",
       "      <td>0.105263</td>\n",
       "      <td>0.026316</td>\n",
       "      <td>0.026316</td>\n",
       "      <td>1</td>\n",
       "    </tr>\n",
       "    <tr>\n",
       "      <th>2</th>\n",
       "      <td>0.039340</td>\n",
       "      <td>0.004230</td>\n",
       "      <td>0.075296</td>\n",
       "      <td>0.070643</td>\n",
       "      <td>0.055415</td>\n",
       "      <td>0.054569</td>\n",
       "      <td>0.009729</td>\n",
       "      <td>0.104907</td>\n",
       "      <td>0.076988</td>\n",
       "      <td>0.085871</td>\n",
       "      <td>...</td>\n",
       "      <td>0.096870</td>\n",
       "      <td>0.024112</td>\n",
       "      <td>0.024958</td>\n",
       "      <td>0.019459</td>\n",
       "      <td>0.076988</td>\n",
       "      <td>0.051607</td>\n",
       "      <td>0.047377</td>\n",
       "      <td>0.006768</td>\n",
       "      <td>0.060068</td>\n",
       "      <td>1</td>\n",
       "    </tr>\n",
       "    <tr>\n",
       "      <th>3</th>\n",
       "      <td>0.143204</td>\n",
       "      <td>0.021845</td>\n",
       "      <td>0.019417</td>\n",
       "      <td>0.016990</td>\n",
       "      <td>0.067961</td>\n",
       "      <td>0.131068</td>\n",
       "      <td>0.004854</td>\n",
       "      <td>0.060680</td>\n",
       "      <td>0.036408</td>\n",
       "      <td>0.109223</td>\n",
       "      <td>...</td>\n",
       "      <td>0.009709</td>\n",
       "      <td>0.063107</td>\n",
       "      <td>0.019417</td>\n",
       "      <td>0.026699</td>\n",
       "      <td>0.036408</td>\n",
       "      <td>0.063107</td>\n",
       "      <td>0.050971</td>\n",
       "      <td>0.033981</td>\n",
       "      <td>0.043689</td>\n",
       "      <td>1</td>\n",
       "    </tr>\n",
       "    <tr>\n",
       "      <th>4</th>\n",
       "      <td>0.111597</td>\n",
       "      <td>0.007659</td>\n",
       "      <td>0.050328</td>\n",
       "      <td>0.063457</td>\n",
       "      <td>0.020788</td>\n",
       "      <td>0.050328</td>\n",
       "      <td>0.016411</td>\n",
       "      <td>0.060175</td>\n",
       "      <td>0.025164</td>\n",
       "      <td>0.145514</td>\n",
       "      <td>...</td>\n",
       "      <td>0.038293</td>\n",
       "      <td>0.033917</td>\n",
       "      <td>0.094092</td>\n",
       "      <td>0.066740</td>\n",
       "      <td>0.066740</td>\n",
       "      <td>0.055799</td>\n",
       "      <td>0.049234</td>\n",
       "      <td>0.008753</td>\n",
       "      <td>0.013129</td>\n",
       "      <td>1</td>\n",
       "    </tr>\n",
       "    <tr>\n",
       "      <th>...</th>\n",
       "      <td>...</td>\n",
       "      <td>...</td>\n",
       "      <td>...</td>\n",
       "      <td>...</td>\n",
       "      <td>...</td>\n",
       "      <td>...</td>\n",
       "      <td>...</td>\n",
       "      <td>...</td>\n",
       "      <td>...</td>\n",
       "      <td>...</td>\n",
       "      <td>...</td>\n",
       "      <td>...</td>\n",
       "      <td>...</td>\n",
       "      <td>...</td>\n",
       "      <td>...</td>\n",
       "      <td>...</td>\n",
       "      <td>...</td>\n",
       "      <td>...</td>\n",
       "      <td>...</td>\n",
       "      <td>...</td>\n",
       "      <td>...</td>\n",
       "    </tr>\n",
       "    <tr>\n",
       "      <th>19995</th>\n",
       "      <td>0.144737</td>\n",
       "      <td>0.010965</td>\n",
       "      <td>0.050439</td>\n",
       "      <td>0.074561</td>\n",
       "      <td>0.024123</td>\n",
       "      <td>0.105263</td>\n",
       "      <td>0.019737</td>\n",
       "      <td>0.067982</td>\n",
       "      <td>0.041667</td>\n",
       "      <td>0.078947</td>\n",
       "      <td>...</td>\n",
       "      <td>0.030702</td>\n",
       "      <td>0.032895</td>\n",
       "      <td>0.015351</td>\n",
       "      <td>0.070175</td>\n",
       "      <td>0.052632</td>\n",
       "      <td>0.046053</td>\n",
       "      <td>0.094298</td>\n",
       "      <td>0.004386</td>\n",
       "      <td>0.019737</td>\n",
       "      <td>0</td>\n",
       "    </tr>\n",
       "    <tr>\n",
       "      <th>19996</th>\n",
       "      <td>0.078431</td>\n",
       "      <td>0.015251</td>\n",
       "      <td>0.047930</td>\n",
       "      <td>0.076253</td>\n",
       "      <td>0.021786</td>\n",
       "      <td>0.089325</td>\n",
       "      <td>0.034858</td>\n",
       "      <td>0.080610</td>\n",
       "      <td>0.071895</td>\n",
       "      <td>0.067538</td>\n",
       "      <td>...</td>\n",
       "      <td>0.056645</td>\n",
       "      <td>0.026144</td>\n",
       "      <td>0.037037</td>\n",
       "      <td>0.028322</td>\n",
       "      <td>0.065359</td>\n",
       "      <td>0.069717</td>\n",
       "      <td>0.089325</td>\n",
       "      <td>0.000000</td>\n",
       "      <td>0.028322</td>\n",
       "      <td>0</td>\n",
       "    </tr>\n",
       "    <tr>\n",
       "      <th>19997</th>\n",
       "      <td>0.085153</td>\n",
       "      <td>0.017467</td>\n",
       "      <td>0.045852</td>\n",
       "      <td>0.080786</td>\n",
       "      <td>0.019651</td>\n",
       "      <td>0.093886</td>\n",
       "      <td>0.026201</td>\n",
       "      <td>0.069869</td>\n",
       "      <td>0.069869</td>\n",
       "      <td>0.063319</td>\n",
       "      <td>...</td>\n",
       "      <td>0.048035</td>\n",
       "      <td>0.032751</td>\n",
       "      <td>0.048035</td>\n",
       "      <td>0.037118</td>\n",
       "      <td>0.050218</td>\n",
       "      <td>0.069869</td>\n",
       "      <td>0.104803</td>\n",
       "      <td>0.000000</td>\n",
       "      <td>0.026201</td>\n",
       "      <td>0</td>\n",
       "    </tr>\n",
       "    <tr>\n",
       "      <th>19998</th>\n",
       "      <td>0.123620</td>\n",
       "      <td>0.011038</td>\n",
       "      <td>0.072848</td>\n",
       "      <td>0.041943</td>\n",
       "      <td>0.015453</td>\n",
       "      <td>0.103753</td>\n",
       "      <td>0.019868</td>\n",
       "      <td>0.057395</td>\n",
       "      <td>0.039735</td>\n",
       "      <td>0.088300</td>\n",
       "      <td>...</td>\n",
       "      <td>0.046358</td>\n",
       "      <td>0.039735</td>\n",
       "      <td>0.037528</td>\n",
       "      <td>0.057395</td>\n",
       "      <td>0.028698</td>\n",
       "      <td>0.075055</td>\n",
       "      <td>0.108168</td>\n",
       "      <td>0.006623</td>\n",
       "      <td>0.019868</td>\n",
       "      <td>0</td>\n",
       "    </tr>\n",
       "    <tr>\n",
       "      <th>19999</th>\n",
       "      <td>0.141079</td>\n",
       "      <td>0.004149</td>\n",
       "      <td>0.085062</td>\n",
       "      <td>0.047718</td>\n",
       "      <td>0.012448</td>\n",
       "      <td>0.101660</td>\n",
       "      <td>0.020747</td>\n",
       "      <td>0.043568</td>\n",
       "      <td>0.022822</td>\n",
       "      <td>0.078838</td>\n",
       "      <td>...</td>\n",
       "      <td>0.026971</td>\n",
       "      <td>0.045643</td>\n",
       "      <td>0.020747</td>\n",
       "      <td>0.072614</td>\n",
       "      <td>0.037344</td>\n",
       "      <td>0.074689</td>\n",
       "      <td>0.126556</td>\n",
       "      <td>0.006224</td>\n",
       "      <td>0.018672</td>\n",
       "      <td>0</td>\n",
       "    </tr>\n",
       "  </tbody>\n",
       "</table>\n",
       "<p>20000 rows × 21 columns</p>\n",
       "</div>"
      ],
      "text/plain": [
       "              A         C         D         E         F         G         H  \\\n",
       "0      0.308789  0.004751  0.047506  0.106888  0.014252  0.049881  0.002375   \n",
       "1      0.072368  0.006579  0.085526  0.052632  0.026316  0.085526  0.026316   \n",
       "2      0.039340  0.004230  0.075296  0.070643  0.055415  0.054569  0.009729   \n",
       "3      0.143204  0.021845  0.019417  0.016990  0.067961  0.131068  0.004854   \n",
       "4      0.111597  0.007659  0.050328  0.063457  0.020788  0.050328  0.016411   \n",
       "...         ...       ...       ...       ...       ...       ...       ...   \n",
       "19995  0.144737  0.010965  0.050439  0.074561  0.024123  0.105263  0.019737   \n",
       "19996  0.078431  0.015251  0.047930  0.076253  0.021786  0.089325  0.034858   \n",
       "19997  0.085153  0.017467  0.045852  0.080786  0.019651  0.093886  0.026201   \n",
       "19998  0.123620  0.011038  0.072848  0.041943  0.015453  0.103753  0.019868   \n",
       "19999  0.141079  0.004149  0.085062  0.047718  0.012448  0.101660  0.020747   \n",
       "\n",
       "              I         K         L  ...         N         P         Q  \\\n",
       "0      0.033254  0.156770  0.045131  ...  0.026128  0.023753  0.047506   \n",
       "1      0.085526  0.046053  0.072368  ...  0.006579  0.059211  0.032895   \n",
       "2      0.104907  0.076988  0.085871  ...  0.096870  0.024112  0.024958   \n",
       "3      0.060680  0.036408  0.109223  ...  0.009709  0.063107  0.019417   \n",
       "4      0.060175  0.025164  0.145514  ...  0.038293  0.033917  0.094092   \n",
       "...         ...       ...       ...  ...       ...       ...       ...   \n",
       "19995  0.067982  0.041667  0.078947  ...  0.030702  0.032895  0.015351   \n",
       "19996  0.080610  0.071895  0.067538  ...  0.056645  0.026144  0.037037   \n",
       "19997  0.069869  0.069869  0.063319  ...  0.048035  0.032751  0.048035   \n",
       "19998  0.057395  0.039735  0.088300  ...  0.046358  0.039735  0.037528   \n",
       "19999  0.043568  0.022822  0.078838  ...  0.026971  0.045643  0.020747   \n",
       "\n",
       "              R         S         T         V         W         Y  membrane  \n",
       "0      0.021378  0.052257  0.014252  0.019002  0.002375  0.011876         1  \n",
       "1      0.065789  0.046053  0.039474  0.105263  0.026316  0.026316         1  \n",
       "2      0.019459  0.076988  0.051607  0.047377  0.006768  0.060068         1  \n",
       "3      0.026699  0.036408  0.063107  0.050971  0.033981  0.043689         1  \n",
       "4      0.066740  0.066740  0.055799  0.049234  0.008753  0.013129         1  \n",
       "...         ...       ...       ...       ...       ...       ...       ...  \n",
       "19995  0.070175  0.052632  0.046053  0.094298  0.004386  0.019737         0  \n",
       "19996  0.028322  0.065359  0.069717  0.089325  0.000000  0.028322         0  \n",
       "19997  0.037118  0.050218  0.069869  0.104803  0.000000  0.026201         0  \n",
       "19998  0.057395  0.028698  0.075055  0.108168  0.006623  0.019868         0  \n",
       "19999  0.072614  0.037344  0.074689  0.126556  0.006224  0.018672         0  \n",
       "\n",
       "[20000 rows x 21 columns]"
      ]
     },
     "execution_count": 8,
     "metadata": {},
     "output_type": "execute_result"
    }
   ],
   "source": [
    "df"
   ]
  },
  {
   "cell_type": "markdown",
   "metadata": {},
   "source": [
    "# Exploratory Data Analysis\n"
   ]
  },
  {
   "cell_type": "code",
   "execution_count": 9,
   "metadata": {},
   "outputs": [
    {
     "data": {
      "text/html": [
       "<div>\n",
       "<style scoped>\n",
       "    .dataframe tbody tr th:only-of-type {\n",
       "        vertical-align: middle;\n",
       "    }\n",
       "\n",
       "    .dataframe tbody tr th {\n",
       "        vertical-align: top;\n",
       "    }\n",
       "\n",
       "    .dataframe thead th {\n",
       "        text-align: right;\n",
       "    }\n",
       "</style>\n",
       "<table border=\"1\" class=\"dataframe\">\n",
       "  <thead>\n",
       "    <tr style=\"text-align: right;\">\n",
       "      <th></th>\n",
       "      <th>A</th>\n",
       "      <th>C</th>\n",
       "      <th>D</th>\n",
       "      <th>E</th>\n",
       "      <th>F</th>\n",
       "      <th>G</th>\n",
       "      <th>H</th>\n",
       "      <th>I</th>\n",
       "      <th>K</th>\n",
       "      <th>L</th>\n",
       "      <th>M</th>\n",
       "      <th>N</th>\n",
       "      <th>P</th>\n",
       "      <th>Q</th>\n",
       "      <th>R</th>\n",
       "      <th>S</th>\n",
       "      <th>T</th>\n",
       "      <th>V</th>\n",
       "      <th>W</th>\n",
       "      <th>Y</th>\n",
       "    </tr>\n",
       "    <tr>\n",
       "      <th>membrane</th>\n",
       "      <th></th>\n",
       "      <th></th>\n",
       "      <th></th>\n",
       "      <th></th>\n",
       "      <th></th>\n",
       "      <th></th>\n",
       "      <th></th>\n",
       "      <th></th>\n",
       "      <th></th>\n",
       "      <th></th>\n",
       "      <th></th>\n",
       "      <th></th>\n",
       "      <th></th>\n",
       "      <th></th>\n",
       "      <th></th>\n",
       "      <th></th>\n",
       "      <th></th>\n",
       "      <th></th>\n",
       "      <th></th>\n",
       "      <th></th>\n",
       "    </tr>\n",
       "  </thead>\n",
       "  <tbody>\n",
       "    <tr>\n",
       "      <th>0</th>\n",
       "      <td>0.099596</td>\n",
       "      <td>0.011595</td>\n",
       "      <td>0.056743</td>\n",
       "      <td>0.065825</td>\n",
       "      <td>0.026850</td>\n",
       "      <td>0.088984</td>\n",
       "      <td>0.026117</td>\n",
       "      <td>0.066100</td>\n",
       "      <td>0.054264</td>\n",
       "      <td>0.085344</td>\n",
       "      <td>0.020248</td>\n",
       "      <td>0.043467</td>\n",
       "      <td>0.038655</td>\n",
       "      <td>0.034842</td>\n",
       "      <td>0.052431</td>\n",
       "      <td>0.051365</td>\n",
       "      <td>0.060162</td>\n",
       "      <td>0.086719</td>\n",
       "      <td>0.005711</td>\n",
       "      <td>0.024890</td>\n",
       "    </tr>\n",
       "    <tr>\n",
       "      <th>1</th>\n",
       "      <td>0.105680</td>\n",
       "      <td>0.009934</td>\n",
       "      <td>0.057090</td>\n",
       "      <td>0.052834</td>\n",
       "      <td>0.040773</td>\n",
       "      <td>0.083558</td>\n",
       "      <td>0.024819</td>\n",
       "      <td>0.059536</td>\n",
       "      <td>0.038595</td>\n",
       "      <td>0.097306</td>\n",
       "      <td>0.028529</td>\n",
       "      <td>0.032032</td>\n",
       "      <td>0.049913</td>\n",
       "      <td>0.035478</td>\n",
       "      <td>0.054802</td>\n",
       "      <td>0.053191</td>\n",
       "      <td>0.054195</td>\n",
       "      <td>0.078225</td>\n",
       "      <td>0.016940</td>\n",
       "      <td>0.026497</td>\n",
       "    </tr>\n",
       "  </tbody>\n",
       "</table>\n",
       "</div>"
      ],
      "text/plain": [
       "                 A         C         D         E         F         G  \\\n",
       "membrane                                                               \n",
       "0         0.099596  0.011595  0.056743  0.065825  0.026850  0.088984   \n",
       "1         0.105680  0.009934  0.057090  0.052834  0.040773  0.083558   \n",
       "\n",
       "                 H         I         K         L         M         N  \\\n",
       "membrane                                                               \n",
       "0         0.026117  0.066100  0.054264  0.085344  0.020248  0.043467   \n",
       "1         0.024819  0.059536  0.038595  0.097306  0.028529  0.032032   \n",
       "\n",
       "                 P         Q         R         S         T         V  \\\n",
       "membrane                                                               \n",
       "0         0.038655  0.034842  0.052431  0.051365  0.060162  0.086719   \n",
       "1         0.049913  0.035478  0.054802  0.053191  0.054195  0.078225   \n",
       "\n",
       "                 W         Y  \n",
       "membrane                      \n",
       "0         0.005711  0.024890  \n",
       "1         0.016940  0.026497  "
      ]
     },
     "execution_count": 9,
     "metadata": {},
     "output_type": "execute_result"
    }
   ],
   "source": [
    "df_grouped = df.groupby('membrane').mean()\n",
    "df_grouped"
   ]
  },
  {
   "cell_type": "code",
   "execution_count": 10,
   "metadata": {},
   "outputs": [
    {
     "name": "stdout",
     "output_type": "stream",
     "text": [
      "Populating the interactive namespace from numpy and matplotlib\n"
     ]
    },
    {
     "data": {
      "image/png": "[encoded data removed]",
      "text/plain": [
       "<Figure size 864x432 with 1 Axes>"
      ]
     },
     "metadata": {
      "needs_background": "light"
     },
     "output_type": "display_data"
    }
   ],
   "source": [
    "%pylab inline\n",
    "\n",
    "pylab.rcParams['figure.figsize'] = (12, 6)\n",
    "aminoacids = df_grouped.columns\n",
    "\n",
    "cytoplasm_mean_composition = df_grouped.loc[0]\n",
    "membrane_mean_composition = df_grouped.loc[1]\n",
    "\n",
    "relative_difference = membrane_mean_composition / cytoplasm_mean_composition\n",
    "\n",
    "plt.bar(aminoacids, relative_difference)\n",
    "plt.show()"
   ]
  },
  {
   "cell_type": "code",
   "execution_count": null,
   "metadata": {},
   "outputs": [],
   "source": [
    "# Proteínas de membrana são mais hidrofóbicas"
   ]
  },
  {
   "cell_type": "code",
   "execution_count": 11,
   "metadata": {},
   "outputs": [
    {
     "data": {
      "image/png": "[encoded data removed]",
      "text/plain": [
       "<Figure size 864x432 with 1 Axes>"
      ]
     },
     "metadata": {
      "needs_background": "light"
     },
     "output_type": "display_data"
    }
   ],
   "source": [
    "from sklearn.decomposition import PCA\n",
    "\n",
    "pca = PCA(n_components=2)\n",
    "pca.fit(df.drop(['membrane'], axis=1))\n",
    "\n",
    "for group, df_group in df.groupby('membrane'):\n",
    "    components = pca.transform(df_group.drop('membrane', axis=1))\n",
    "    plt.scatter(\n",
    "        components[:,0],\n",
    "        components[:,1],\n",
    "        s=0.5,\n",
    "        label='Membrane' if group == 0 else 'Cytoplasm',\n",
    "        color='red' if group == 0 else 'blue'\n",
    "    )\n",
    "\n",
    "plt.show()"
   ]
  },
  {
   "cell_type": "markdown",
   "metadata": {},
   "source": [
    "## Model Training\n"
   ]
  },
  {
   "cell_type": "code",
   "execution_count": 12,
   "metadata": {},
   "outputs": [],
   "source": [
    "from sklearn.model_selection import train_test_split\n",
    "\n",
    "X = df.drop(['membrane'], axis=1)\n",
    "y = df['membrane']\n",
    "\n",
    "X_train, X_test, y_train, y_test = train_test_split(X, y)"
   ]
  },
  {
   "cell_type": "code",
   "execution_count": 13,
   "metadata": {},
   "outputs": [
    {
     "data": {
      "text/plain": [
       "RandomForestClassifier()"
      ]
     },
     "execution_count": 13,
     "metadata": {},
     "output_type": "execute_result"
    }
   ],
   "source": [
    "from sklearn.ensemble import RandomForestClassifier\n",
    "\n",
    "model = RandomForestClassifier()\n",
    "model.fit(X_train, y_train)"
   ]
  },
  {
   "cell_type": "markdown",
   "metadata": {},
   "source": [
    "# Model Validation\n"
   ]
  },
  {
   "cell_type": "code",
   "execution_count": 15,
   "metadata": {},
   "outputs": [
    {
     "name": "stdout",
     "output_type": "stream",
     "text": [
      "              precision    recall  f1-score   support\n",
      "\n",
      "           0       0.96      0.95      0.95      2509\n",
      "           1       0.95      0.96      0.95      2491\n",
      "\n",
      "    accuracy                           0.95      5000\n",
      "   macro avg       0.95      0.95      0.95      5000\n",
      "weighted avg       0.95      0.95      0.95      5000\n",
      "\n"
     ]
    }
   ],
   "source": [
    "from sklearn.metrics import classification_report\n",
    "\n",
    "y_pred = model.predict(X_test)\n",
    "report = classification_report(y_test, y_pred)\n",
    "print(report)"
   ]
  },
  {
   "cell_type": "markdown",
   "metadata": {},
   "source": [
    "## O modelo em geral tem bons valores em acurácia e f1-score."
   ]
  },
  {
   "cell_type": "code",
   "execution_count": null,
   "metadata": {},
   "outputs": [],
   "source": []
  }
 ],
 "metadata": {
  "kernelspec": {
   "display_name": "Python 3",
   "language": "python",
   "name": "python3"
  },
  "language_info": {
   "codemirror_mode": {
    "name": "ipython",
    "version": 3
   },
   "file_extension": ".py",
   "mimetype": "text/x-python",
   "name": "python",
   "nbconvert_exporter": "python",
   "pygments_lexer": "ipython3",
   "version": "3.8.5"
  }
 },
 "nbformat": 4,
 "nbformat_minor": 4
}